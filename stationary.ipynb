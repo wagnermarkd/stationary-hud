{
 "cells": [
  {
   "cell_type": "code",
   "execution_count": null,
   "metadata": {
    "collapsed": false
   },
   "outputs": [],
   "source": [
    "import PIL\n",
    "from PIL import ImageFont\n",
    "from PIL import Image\n",
    "from PIL import ImageDraw\n",
    "import numpy as np\n",
    "\n",
    "TEXT=\"Hello, World!\"\n",
    "\n",
    "# font = ImageFont.truetype(\"Arial-Bold.ttf\",14)\n",
    "font = ImageFont.truetype(\"Arial.ttf\",200)\n",
    "img=Image.new(\"RGBA\", (1500,300),(255,255,255))\n",
    "draw = ImageDraw.Draw(img)\n",
    "draw.text((0, 0),TEXT,(0,0,0),font=font)\n",
    "draw = ImageDraw.Draw(img)\n"
   ]
  },
  {
   "cell_type": "code",
   "execution_count": null,
   "metadata": {
    "collapsed": false
   },
   "outputs": [],
   "source": [
    "from bokeh.io import output_notebook\n",
    "from bokeh.plotting import figure, show\n",
    "\n",
    "output_notebook()"
   ]
  },
  {
   "cell_type": "code",
   "execution_count": null,
   "metadata": {
    "collapsed": false
   },
   "outputs": [],
   "source": [
    "black = np.array(img)[:,:,1]\n",
    "height = np.shape(img)[0]"
   ]
  },
  {
   "cell_type": "code",
   "execution_count": null,
   "metadata": {
    "collapsed": false
   },
   "outputs": [],
   "source": [
    "offset=200\n",
    "maxes = [0 if x == 0 else 0 if x > offset else -x + offset for x  in np.argmin(black, axis = 0)]\n",
    "\n",
    "p2 = figure()\n",
    "p2.line(range(len(maxes)), maxes)\n",
    "show(p2)"
   ]
  },
  {
   "cell_type": "code",
   "execution_count": null,
   "metadata": {
    "collapsed": false
   },
   "outputs": [],
   "source": [
    "scale = max(maxes)\n",
    "normed = [float(x)/float(scale) for x in maxes]"
   ]
  },
  {
   "cell_type": "code",
   "execution_count": null,
   "metadata": {
    "collapsed": true
   },
   "outputs": [],
   "source": [
    "TOP_SPEED=22\n",
    "RESTING_SPEED=15\n",
    "\n",
    "speed = (TOP_SPEED - RESTING_SPEED)*np.array(normed) + RESTING_SPEED"
   ]
  },
  {
   "cell_type": "code",
   "execution_count": null,
   "metadata": {
    "collapsed": false
   },
   "outputs": [],
   "source": [
    "from bokeh.models import ColumnDataSource\n",
    "from bokeh.io import push_notebook\n",
    "from bokeh.models import Range1d, BasicTicker\n",
    "import time\n",
    "\n",
    "source = ColumnDataSource(data=dict(x=range(30), y=speed[0:30]))\n",
    "\n",
    "p = figure()\n",
    "p.line('x','y', source=source)\n",
    "p.y_range = Range1d(-1,max(speed)+1)\n",
    "p.x_range = Range1d(0,30)\n",
    "p.yaxis[0].ticker = BasicTicker(max_interval=1)\n",
    "# change just some things about the y-grid\n",
    "p.ygrid.minor_grid_line_color = 'navy'\n",
    "p.ygrid.minor_grid_line_alpha = 0.1\n",
    "show(p)\n",
    "for i in range(len(speed)):\n",
    "    time.sleep(1)\n",
    "    source.data['y'] = speed[i:i+30]\n",
    "    push_notebook()"
   ]
  }
 ],
 "metadata": {
  "kernelspec": {
   "display_name": "Python 2",
   "language": "python",
   "name": "python2"
  },
  "language_info": {
   "codemirror_mode": {
    "name": "ipython",
    "version": 2
   },
   "file_extension": ".py",
   "mimetype": "text/x-python",
   "name": "python",
   "nbconvert_exporter": "python",
   "pygments_lexer": "ipython2",
   "version": "2.7.10"
  }
 },
 "nbformat": 4,
 "nbformat_minor": 0
}
